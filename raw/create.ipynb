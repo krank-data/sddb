{
 "cells": [
  {
   "cell_type": "markdown",
   "id": "9e9a1e6b-ec03-4210-b66b-ae1762b25c9f",
   "metadata": {},
   "source": [
    "# Sleep and Dream Database - Raw\n",
    "\n",
    "Compress complete Sleep and Dream Database raw exported file."
   ]
  },
  {
   "cell_type": "code",
   "execution_count": 1,
   "id": "d49449c6-58eb-4edb-b006-80432d07a132",
   "metadata": {},
   "outputs": [],
   "source": [
    "import hashlib\n",
    "import lzma\n",
    "from datetime import datetime, timezone\n",
    "from pathlib import Path\n",
    "\n",
    "import pandas as pd\n",
    "from pandas.testing import assert_frame_equal"
   ]
  },
  {
   "cell_type": "code",
   "execution_count": 2,
   "id": "86ca1aad-0714-4faf-8428-49302c12211a",
   "metadata": {},
   "outputs": [
    {
     "name": "stdout",
     "output_type": "stream",
     "text": [
      "\n",
      "\n",
      "file: dream-export.csv\n",
      "size: 37.127982 Mb\n",
      "timestamp: 2024-03-15T18:37:37+00:00\n",
      "md5: 59fc13c2eb78aeb0bdb9d5a157e45d28\n",
      "sha256: 68e4de21cefce661a4148214e0a6454d56662cb430010fdda6ef7eab7fcfffe8\n",
      "\n",
      "\n",
      "\n",
      "\n",
      "file: dream-export.csv.xz\n",
      "size: 5.348736 Mb\n",
      "timestamp: 2024-03-22T22:15:10+00:00\n",
      "md5: 7a28c8f29584ab3375db2dc2bbc86d6d\n",
      "sha256: 11518b215efdff596b70b5f150e8df673355297d210e36fb46ac0e08651dcbff\n",
      "\n",
      "\n"
     ]
    }
   ],
   "source": [
    "import_path = Path(\".\") / \"dream-export.csv\"\n",
    "export_path = import_path.with_suffix(import_path.suffix + \".xz\")\n",
    "\n",
    "def file_hash(fname, alg, chunksize=65536):\n",
    "    \"\"\"Calculate the hash of a given file in chunks to avoid memory overload\"\"\"\n",
    "    hasher = getattr(hashlib, alg)()\n",
    "    with open(fname, \"rb\") as f:\n",
    "        buffer = f.read(chunksize)\n",
    "        while buffer:\n",
    "            hasher.update(buffer)\n",
    "            buffer = f.read(chunksize)\n",
    "    return hasher.hexdigest()\n",
    "\n",
    "with open(import_path, \"rb\") as f:\n",
    "    data = f.read()  # # Read original file\n",
    "    with lzma.open(export_path, \"xb\") as lzf:\n",
    "        lzf.write(data)  # Write it to compressed file\n",
    "\n",
    "for fp in [import_path, export_path]:\n",
    "    print(\"\\n\")\n",
    "    print(f\"file: {fp}\")\n",
    "    print(f\"size: {fp.stat().st_size / 1e6} Mb\")\n",
    "    print(f\"timestamp: {datetime.fromtimestamp(fp.stat().st_mtime, tz=timezone.utc).isoformat(timespec='seconds')}\")\n",
    "    print(f\"md5: {file_hash(fp, alg='md5')}\")\n",
    "    print(f\"sha256: {file_hash(fp, alg='sha256')}\")\n",
    "    print(\"\\n\")\n",
    "\n",
    "# Read both files back in and ensure they contain identical content\n",
    "import_df = pd.read_csv(import_path, low_memory=False)  # low_memory=False to avoid column warnings\n",
    "export_df = pd.read_csv(export_path, low_memory=False)\n",
    "assert_frame_equal(import_df, export_df, check_exact=True)"
   ]
  }
 ],
 "metadata": {
  "kernelspec": {
   "display_name": "ydev",
   "language": "python",
   "name": "ydev"
  },
  "language_info": {
   "codemirror_mode": {
    "name": "ipython",
    "version": 3
   },
   "file_extension": ".py",
   "mimetype": "text/x-python",
   "name": "python",
   "nbconvert_exporter": "python",
   "pygments_lexer": "ipython3",
   "version": "3.11.4"
  }
 },
 "nbformat": 4,
 "nbformat_minor": 5
}
